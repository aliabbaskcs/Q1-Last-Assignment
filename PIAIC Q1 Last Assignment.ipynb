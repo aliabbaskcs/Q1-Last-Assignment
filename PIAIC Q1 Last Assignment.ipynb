{
 "cells": [
  {
   "cell_type": "markdown",
   "metadata": {},
   "source": [
    "# Area Of A circle"
   ]
  },
  {
   "cell_type": "raw",
   "metadata": {},
   "source": []
  },
  {
   "cell_type": "code",
   "execution_count": 2,
   "metadata": {},
   "outputs": [
    {
     "name": "stdout",
     "output_type": "stream",
     "text": [
      "0.78625\n"
     ]
    }
   ],
   "source": [
    "r = 0.5\n",
    "area = 3.145*r*r\n",
    "print(area)"
   ]
  },
  {
   "cell_type": "markdown",
   "metadata": {},
   "source": [
    "# Checking Number Positive, Negative Or Zero"
   ]
  },
  {
   "cell_type": "code",
   "execution_count": 8,
   "metadata": {},
   "outputs": [
    {
     "name": "stdout",
     "output_type": "stream",
     "text": [
      "Enter Number44\n",
      "Positive Number Entered\n"
     ]
    }
   ],
   "source": [
    "a = int(input(\"Enter Number\"))\n",
    "if a > 0:\n",
    "   print(\"Positive Number Entered\")\n",
    "elif a < 0:\n",
    "    print(\"Negative Number Entered\")\n",
    "else :\n",
    "    print(\"Zero Entered\")\n"
   ]
  },
  {
   "cell_type": "markdown",
   "metadata": {},
   "source": [
    "# Divisibilty Check Of Two Numbers"
   ]
  },
  {
   "cell_type": "code",
   "execution_count": 2,
   "metadata": {},
   "outputs": [
    {
     "name": "stdout",
     "output_type": "stream",
     "text": [
      "Enter Numerator24\n",
      "Enter Denomerator12\n",
      "Number 24 Is Completely Divisble By  12\n"
     ]
    }
   ],
   "source": [
    "a = int(input(\"Enter Numerator\"))\n",
    "b = int(input(\"Enter Denomerator\"))\n",
    "c = a % b \n",
    "if c == 0:\n",
    "    print(\"Number\",a,\"Is Completely Divisble By \",b)\n",
    "else :\n",
    "    print(\"Number\",a,\"Is Not Completely Divisible By\",b)"
   ]
  },
  {
   "cell_type": "code",
   "execution_count": 1,
   "metadata": {},
   "outputs": [
    {
     "ename": "SyntaxError",
     "evalue": "invalid syntax (<ipython-input-1-d4b3dfbe9b10>, line 6)",
     "output_type": "error",
     "traceback": [
      "\u001b[0;36m  File \u001b[0;32m\"<ipython-input-1-d4b3dfbe9b10>\"\u001b[0;36m, line \u001b[0;32m6\u001b[0m\n\u001b[0;31m    else :\u001b[0m\n\u001b[0m       ^\u001b[0m\n\u001b[0;31mSyntaxError\u001b[0m\u001b[0;31m:\u001b[0m invalid syntax\n"
     ]
    }
   ],
   "source": [
    "a = int(input(\"Enter Numerator\"))\n",
    "b = int(input(\"Enter Denominator\"))\n",
    "c = a % b\n",
    "if c==0 :\n",
    "    print(\"NUmber\",a,\"Is completely Divisible By\",b)\n",
    "    else :\n",
    "        print(\"Number\",a,\"Is not completely Divisible By\",b)"
   ]
  },
  {
   "cell_type": "markdown",
   "metadata": {},
   "source": [
    "# Days Calculator"
   ]
  },
  {
   "cell_type": "code",
   "execution_count": 11,
   "metadata": {},
   "outputs": [
    {
     "name": "stdout",
     "output_type": "stream",
     "text": [
      "Enter Date In Format dd/mm/yy: 11/11/11\n",
      "Enter Date In Format dd/mm/yy: 12/12/12\n",
      "There are 397 days between 2011-11-11 00:00:00 and 2012-12-12 00:00:00.\n"
     ]
    }
   ],
   "source": [
    "import datetime\n",
    "\n",
    "s=datetime.datetime.strptime(input('Enter Date In Format dd/mm/yy: '), '%m/%d/%y')\n",
    "e=datetime.datetime.strptime(input('Enter Date In Format dd/mm/yy: '), '%m/%d/%y')\n",
    "remaindDays=e-s\n",
    "print(f\"There are {remaindDays.days} days between {s} and {e}.\")"
   ]
  },
  {
   "cell_type": "markdown",
   "metadata": {},
   "source": [
    "# Calculate Volume Of Sphere"
   ]
  },
  {
   "cell_type": "code",
   "execution_count": 12,
   "metadata": {},
   "outputs": [
    {
     "name": "stdout",
     "output_type": "stream",
     "text": [
      "Enter Radius Of A Sphere2\n",
      "Volume Of Sphere With Radius 2 Is 33.49333333333333\n"
     ]
    }
   ],
   "source": [
    "r = int(input(\"Enter Radius Of A Sphere\"))\n",
    "v = 4/3*3.14*r*r*r\n",
    "print(\"Volume Of Sphere With Radius\",r,\"Is\",v)"
   ]
  },
  {
   "cell_type": "markdown",
   "metadata": {},
   "source": [
    "# Copy String \"n\" Times"
   ]
  },
  {
   "cell_type": "code",
   "execution_count": 13,
   "metadata": {},
   "outputs": [
    {
     "name": "stdout",
     "output_type": "stream",
     "text": [
      "Enter Stringcar\n",
      "How Many copies Of String you Need : 20\n",
      "car Copies Of car Are carcarcarcarcarcarcarcarcarcarcarcarcarcarcarcarcarcarcarcar\n"
     ]
    }
   ],
   "source": [
    "a = input(\"Enter String\")\n",
    "b = int(input(\"How Many copies Of String you Need : \"))\n",
    "print(a,\"Copies Of\",a,\"Are\",a*b)"
   ]
  },
  {
   "cell_type": "markdown",
   "metadata": {},
   "source": [
    "# Check If Number Is Even Or Odd"
   ]
  },
  {
   "cell_type": "code",
   "execution_count": 15,
   "metadata": {},
   "outputs": [
    {
     "name": "stdout",
     "output_type": "stream",
     "text": [
      "Enter Number879\n",
      "879 Is Odd\n"
     ]
    }
   ],
   "source": [
    "a = int(input(\"Enter Number\"))\n",
    "if a%2 == 0 :\n",
    "    print(a,\"Is Even\")\n",
    "else :\n",
    "    print(a,\"Is Odd\")"
   ]
  },
  {
   "cell_type": "markdown",
   "metadata": {},
   "source": [
    "# Triangle Area"
   ]
  },
  {
   "cell_type": "code",
   "execution_count": 17,
   "metadata": {},
   "outputs": [
    {
     "name": "stdout",
     "output_type": "stream",
     "text": [
      "Enter Magnitude Of Triangle Base : 55\n",
      "Enter Magnitude Of Triangle Height : 43\n",
      "Area Of Triangle A With Height 43 And Base 55 Is 1182.5\n"
     ]
    }
   ],
   "source": [
    "b = int(input(\"Enter Magnitude Of Triangle Base : \"))\n",
    "l = int(input(\"Enter Magnitude Of Triangle Height : \"))\n",
    "print(\"Area Of Triangle A With Height\",l,\"And Base\",b,\"Is\",0.5*b*l)"
   ]
  },
  {
   "cell_type": "markdown",
   "metadata": {},
   "source": [
    "# Calculate Interest"
   ]
  },
  {
   "cell_type": "code",
   "execution_count": 18,
   "metadata": {},
   "outputs": [
    {
     "name": "stdout",
     "output_type": "stream",
     "text": [
      "Please Enter Principal Amount : 50000\n",
      "Please Enter Rate Of Interest In % : 2\n",
      "please Enter number Of Years For Investment : 7\n",
      "After 7 Years Your Principal Amount Of 50000 Over An Interesrt Of 2.0 Will be 50000007.0\n"
     ]
    }
   ],
   "source": [
    "a = int(input(\"Please Enter Principal Amount : \"))\n",
    "b = float(input(\"Please Enter Rate Of Interest In % : \"))\n",
    "c = int(input(\"please Enter number Of Years For Investment : \"))\n",
    "print(\"After\",c,\"Years Your Principal Amount Of\",a,\"Over An Interesrt Of\",b,\"Will be\",a*b/100*a+c)"
   ]
  },
  {
   "cell_type": "markdown",
   "metadata": {},
   "source": [
    "# Euclidean Distance"
   ]
  },
  {
   "cell_type": "markdown",
   "metadata": {},
   "source": []
  },
  {
   "cell_type": "code",
   "execution_count": 24,
   "metadata": {},
   "outputs": [
    {
     "name": "stdout",
     "output_type": "stream",
     "text": [
      "Enter Co-ordinate for x1 : 6\n",
      "Enter Co-ordinate For y1 : 9\n",
      "Enter Co-ordinate For x2 : 8\n",
      "Enter Co-ordinate For y2 : 4\n",
      "Distance Between Points( 6.0 , 9.0 )and ( 8.0 , 4.0 ) Is 5.385164807134504\n"
     ]
    }
   ],
   "source": [
    "a = float(input(\"Enter Co-ordinate for x1 : \"))\n",
    "b = float(input(\"Enter Co-ordinate For y1 : \"))\n",
    "c = float(input(\"Enter Co-ordinate For x2 : \"))\n",
    "d = float(input(\"Enter Co-ordinate For y2 : \"))\n",
    "e = pow(pow((a-c),2)+pow((b-d),2),0.5)\n",
    "print(\"Distance Between Points(\",a,\",\",b,\")and (\",c,\",\",d,\") Is\",e)"
   ]
  },
  {
   "cell_type": "markdown",
   "metadata": {},
   "source": [
    "# Feet To Centimeter Converter"
   ]
  },
  {
   "cell_type": "code",
   "execution_count": 25,
   "metadata": {},
   "outputs": [
    {
     "name": "stdout",
     "output_type": "stream",
     "text": [
      "Enter Height In Feet : 5.7\n",
      "There Are 173.73600000000002 cm in 5.7 feet\n"
     ]
    }
   ],
   "source": [
    "f = float(input(\"Enter Height In Feet : \"))\n",
    "print(\"There Are\",30.48*f,\"cm in\",f,\"feet\")"
   ]
  },
  {
   "cell_type": "markdown",
   "metadata": {},
   "source": [
    "# BMI Calculator"
   ]
  },
  {
   "cell_type": "code",
   "execution_count": 26,
   "metadata": {},
   "outputs": [
    {
     "name": "stdout",
     "output_type": "stream",
     "text": [
      "Enter Height In cm : 173.73600000000002\n",
      "Enter Weight In Kg : 47\n",
      "your BMI Is 15.571061544640099\n"
     ]
    }
   ],
   "source": [
    "a = float(input(\"Enter Height In cm : \"))\n",
    "b = float(input(\"Enter Weight In Kg : \"))\n",
    "print(\"your BMI Is\",b/pow(a/100,2))"
   ]
  },
  {
   "cell_type": "markdown",
   "metadata": {},
   "source": [
    "# Sum of \"n\" Positive Integers\n"
   ]
  },
  {
   "cell_type": "code",
   "execution_count": 1,
   "metadata": {},
   "outputs": [
    {
     "name": "stdout",
     "output_type": "stream",
     "text": [
      "Enter Value Of n: 6\n",
      "Sum Of n Positive Integers Till 6 Is 21\n"
     ]
    }
   ],
   "source": [
    "f = int(input(\"Enter Value Of n: \"))\n",
    "e = 0\n",
    "for g in range(0,f+1,1):\n",
    "    e = e+g\n",
    "    \n",
    "print(\"Sum Of n Positive Integers Till\",f,\"Is\",e)"
   ]
  },
  {
   "cell_type": "markdown",
   "metadata": {},
   "source": [
    "# Digits Sum Of A Number"
   ]
  },
  {
   "cell_type": "code",
   "execution_count": 2,
   "metadata": {},
   "outputs": [
    {
     "name": "stdout",
     "output_type": "stream",
     "text": [
      "Enter A Number : 88\n",
      "Digital Sum :  16\n"
     ]
    }
   ],
   "source": [
    "a = input(\"Enter A Number : \")\n",
    "l = []\n",
    "for e in a :\n",
    "    l.append(int(e))\n",
    "print(\"Digital Sum : \",sum(l))"
   ]
  },
  {
   "cell_type": "markdown",
   "metadata": {},
   "source": [
    "# Decimal to Binary Converter"
   ]
  },
  {
   "cell_type": "code",
   "execution_count": 3,
   "metadata": {},
   "outputs": [
    {
     "name": "stdout",
     "output_type": "stream",
     "text": [
      "Enter A Decimal Number  :96\n",
      "Binary Reputation Of 96 Is   :  0b1100000\n"
     ]
    }
   ],
   "source": [
    "b = int(input(\"Enter A Decimal Number  :\"))\n",
    "print(\"Binary Reputation Of\",b,\"Is   : \",bin(b))"
   ]
  },
  {
   "cell_type": "markdown",
   "metadata": {},
   "source": [
    "# Binary To Decimal Number"
   ]
  },
  {
   "cell_type": "code",
   "execution_count": 5,
   "metadata": {},
   "outputs": [
    {
     "name": "stdout",
     "output_type": "stream",
     "text": [
      "Enter A Binary Number  : 1010011\n",
      "Decimal Reputation Of [] Is 83\n"
     ]
    }
   ],
   "source": [
    "d = list(input(\"Enter A Binary Number  : \"))\n",
    "e = 0\n",
    "for f in range(len(d)) : \n",
    "    a = d.pop()\n",
    "    if a=='1' :\n",
    "        e = e+pow(2,f)\n",
    "print(\"Decimal Reputation Of\",d,\"Is\",e)"
   ]
  },
  {
   "cell_type": "markdown",
   "metadata": {},
   "source": [
    "# Vowel And Constant Counter"
   ]
  },
  {
   "cell_type": "code",
   "execution_count": 6,
   "metadata": {},
   "outputs": [
    {
     "name": "stdout",
     "output_type": "stream",
     "text": [
      "Enter Text: My Name Is Ali\n",
      "Vowels: 5 \n",
      "Consonants: 9\n"
     ]
    }
   ],
   "source": [
    "a = input(\"Enter Text: \")\n",
    "b = 0;\n",
    "c = 0;\n",
    "for d in a:\n",
    "    if d == 'A' or d == 'a' or d == 'E' or d == 'e' or d == 'I' or d == 'i' or d == 'O' or d == 'o' or d == 'U' or d == 'u':\n",
    "        b+=1\n",
    "    else:\n",
    "        c+=1\n",
    "print(\"Vowels:\",b,\"\\nConsonants:\",c)"
   ]
  },
  {
   "cell_type": "markdown",
   "metadata": {},
   "source": [
    "# Palindrome Tester"
   ]
  },
  {
   "cell_type": "code",
   "execution_count": 7,
   "metadata": {},
   "outputs": [
    {
     "name": "stdout",
     "output_type": "stream",
     "text": [
      "Enter Text : ABC\n",
      "Text ABC Is Not Palindrome\n"
     ]
    }
   ],
   "source": [
    "a = input(\"Enter Text : \")\n",
    "c = a\n",
    "a = a.casefold()\n",
    "b = reversed(a)\n",
    "if list(a) == list(b)  :\n",
    "    print(\"Text\",c,\"Is Palindrome\")\n",
    "else : \n",
    "    print(\"Text\",c,\"Is Not Palindrome\")"
   ]
  },
  {
   "cell_type": "markdown",
   "metadata": {},
   "source": [
    "# Count Numbers , Alphabets , Special Characters And Spaces"
   ]
  },
  {
   "cell_type": "code",
   "execution_count": 9,
   "metadata": {},
   "outputs": [
    {
     "name": "stdout",
     "output_type": "stream",
     "text": [
      "Enter Text : hello World\n",
      "Alphabets: 10 \n",
      "Numbers: 0 \n",
      "Spaces: 1 \n",
      "Special Characters: 0\n"
     ]
    }
   ],
   "source": [
    "a = input(\"Enter Text : \")\n",
    "b = c = d = e = 0\n",
    "for f in a  :\n",
    "    if f.isalpha() : \n",
    "        b+=1\n",
    "    elif f.isdigit() :\n",
    "        c+=1\n",
    "    elif f.isspace() :\n",
    "        d+=1\n",
    "    else :\n",
    "        e+=1\n",
    "print(\"Alphabets:\",b,\"\\nNumbers:\",c,\"\\nSpaces:\",d,\"\\nSpecial Characters:\",e)"
   ]
  },
  {
   "cell_type": "markdown",
   "metadata": {},
   "source": [
    "# Star Pattern"
   ]
  },
  {
   "cell_type": "code",
   "execution_count": 11,
   "metadata": {},
   "outputs": [
    {
     "name": "stdout",
     "output_type": "stream",
     "text": [
      "\n",
      "\n",
      "* \n",
      "\n",
      "* * \n",
      "\n",
      "* * * \n",
      "\n",
      "* * * * \n",
      "\n",
      "* * * * * \n",
      "\n",
      "* * * * \n",
      "\n",
      "* * * \n",
      "\n",
      "* * \n",
      "\n",
      "* \n",
      "\n"
     ]
    }
   ],
   "source": [
    "for a in range(6) : \n",
    "    for b in range(a) :\n",
    "        print(\"*\",end = \" \")\n",
    "    print(\"\\n\")\n",
    "for a in range(4,0,-1) : \n",
    "    for b in range(a) : \n",
    "        print(\"*\",end = \" \")\n",
    "    print(\"\\n\")"
   ]
  },
  {
   "cell_type": "markdown",
   "metadata": {},
   "source": [
    "# Number Pattern"
   ]
  },
  {
   "cell_type": "code",
   "execution_count": 15,
   "metadata": {},
   "outputs": [
    {
     "name": "stdout",
     "output_type": "stream",
     "text": [
      "1 \n",
      "\n",
      "1 2 \n",
      "\n",
      "1 2 3 \n",
      "\n",
      "1 2 3 4 \n",
      "\n",
      "1 2 3 4 5 \n",
      "\n",
      "1 2 3 4 \n",
      "\n",
      "1 2 3 \n",
      "\n",
      "1 2 \n",
      "\n",
      "1 \n",
      "\n"
     ]
    }
   ],
   "source": [
    "for a in range(1,6) : \n",
    "    for b in range(1,a+1) :\n",
    "        print(b,end = \" \")\n",
    "    print(\"\\n\")\n",
    "for a in range(5,1,-1) :\n",
    "    for b in range(a,1,-1) :\n",
    "        print((a+1)-b,end = \" \")\n",
    "    print(\"\\n\")"
   ]
  },
  {
   "cell_type": "markdown",
   "metadata": {},
   "source": [
    "# Number Pattern Second Program"
   ]
  },
  {
   "cell_type": "code",
   "execution_count": 16,
   "metadata": {},
   "outputs": [
    {
     "name": "stdout",
     "output_type": "stream",
     "text": [
      "\n",
      "\n",
      "1 \n",
      "\n",
      "2 2 \n",
      "\n",
      "3 3 3 \n",
      "\n",
      "4 4 4 4 \n",
      "\n",
      "5 5 5 5 5 \n",
      "\n",
      "6 6 6 6 6 6 \n",
      "\n",
      "7 7 7 7 7 7 7 \n",
      "\n",
      "8 8 8 8 8 8 8 8 \n",
      "\n",
      "9 9 9 9 9 9 9 9 9 \n",
      "\n"
     ]
    }
   ],
   "source": [
    "for a in range(10) :\n",
    "    for b in range(a) :\n",
    "        print(a,end = \" \")\n",
    "    print(\"\\n\")"
   ]
  },
  {
   "cell_type": "markdown",
   "metadata": {},
   "source": [
    "# Vowel Tester"
   ]
  },
  {
   "cell_type": "code",
   "execution_count": 17,
   "metadata": {},
   "outputs": [
    {
     "name": "stdout",
     "output_type": "stream",
     "text": [
      "Enter A Character x\n",
      "Letter x Is Not Vowel\n"
     ]
    }
   ],
   "source": [
    "a = input(\"Enter A Character \")\n",
    "if a == 'A' or a== 'a' or a == 'E' or a == 'e' or a == 'i' or a == 'I' or a == 'O' or a == 'o' or a == 'u' or a== 'U':\n",
    "    print(\"Letter\",a,\"Is Vowel\")\n",
    "else:\n",
    "    print(\"Letter\",a,\"Is Not Vowel\")"
   ]
  },
  {
   "cell_type": "code",
   "execution_count": null,
   "metadata": {},
   "outputs": [],
   "source": []
  }
 ],
 "metadata": {
  "kernelspec": {
   "display_name": "Python 3",
   "language": "python",
   "name": "python3"
  },
  "language_info": {
   "codemirror_mode": {
    "name": "ipython",
    "version": 3
   },
   "file_extension": ".py",
   "mimetype": "text/x-python",
   "name": "python",
   "nbconvert_exporter": "python",
   "pygments_lexer": "ipython3",
   "version": "3.7.3"
  }
 },
 "nbformat": 4,
 "nbformat_minor": 2
}
